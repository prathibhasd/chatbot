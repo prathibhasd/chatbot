{
  "nbformat": 4,
  "nbformat_minor": 0,
  "metadata": {
    "colab": {
      "name": "chatbot.ipynb",
      "provenance": []
    },
    "kernelspec": {
      "name": "python3",
      "display_name": "Python 3"
    },
    "language_info": {
      "name": "python"
    }
  },
  "cells": [
    {
      "cell_type": "code",
      "source": [
        "!pip install chatterbot"
      ],
      "metadata": {
        "colab": {
          "base_uri": "https://localhost:8080/"
        },
        "id": "K5ny6VFwuZyi",
        "outputId": "67cdee7d-0ba7-41cd-9d8c-011c4c75f31c"
      },
      "execution_count": 4,
      "outputs": [
        {
          "output_type": "stream",
          "name": "stdout",
          "text": [
            "Requirement already satisfied: chatterbot in /usr/local/lib/python3.7/dist-packages (1.0.8)\n",
            "Requirement already satisfied: pytz in /usr/local/lib/python3.7/dist-packages (from chatterbot) (2022.1)\n",
            "Requirement already satisfied: mathparse<0.2,>=0.1 in /usr/local/lib/python3.7/dist-packages (from chatterbot) (0.1.2)\n",
            "Requirement already satisfied: sqlalchemy<1.4,>=1.3 in /usr/local/lib/python3.7/dist-packages (from chatterbot) (1.3.24)\n",
            "Requirement already satisfied: python-dateutil<2.9,>=2.8 in /usr/local/lib/python3.7/dist-packages (from chatterbot) (2.8.2)\n",
            "Requirement already satisfied: six>=1.5 in /usr/local/lib/python3.7/dist-packages (from python-dateutil<2.9,>=2.8->chatterbot) (1.15.0)\n"
          ]
        }
      ]
    },
    {
      "cell_type": "code",
      "source": [
        "from chatterbot import ChatBot\n",
        "from chatterbot.trainers import ListTrainer\n",
        "import spacy\n",
        "spacy.load('en_core_web_sm')\n",
        "# from spacy.lang.en import English\n",
        "from chatterbot.trainers import ChatterBotCorpusTrainer\n",
        "\n",
        "# Creating ChatBot Instance\n",
        "chatbot = ChatBot('<b>ಕನ್ನಡ ಬೊಟ್</b>')\n",
        "\n",
        "# nlp = spacy.load(\"en_core_web_sm\")\n",
        "\n",
        "chatbot = ChatBot(\n",
        "    'ಕಾಲೇಜು ವಿಚಾರಣೆಗಾಗಿ ಚಾಟ್‌ಬಾಟ್',\n",
        "    storage_adapter='chatterbot.storage.SQLStorageAdapter',\n",
        "    logic_adapters=[\n",
        "        {\n",
        "            'import_path': 'chatterbot.logic.BestMatch',\n",
        "            'default_response': \"ನಮಸ್ತೆ,  ನಿಮಗೆ ಯಾವುದೇ ಸಹಾಯಕ ಅಗತ್ಯವಿದ್ದರೆ ನಿಮಗೆ ಸಹಾಯ ಮಾಡಲು ನಾನು ಇಲ್ಲಿದ್ದೇನೆ.ಮುಂದುವರಿಯಿರಿ ಮತ್ತು ಯಾವುದೇ ಪ್ರಶ್ನೆಯ ಸಂಖ್ಯೆಯನ್ನು ಬರೆಯಿರಿ. ಈ ಕೆಳಗಿನ ಯಾವ ಗುಂಪಿನ ಮಾಹಿತಿಯನ್ನು ನೀವು ತಿಳಿದುಕೊಳ್ಳಲು ಬಯಸುತ್ತೀರಿ? 1.ವಿದ್ಯಾರ್ಥಿ ವಿಭಾಗದ ವಿಚಾರಣೆ 2.ಪೋಷಕರ ವಿಭಾಗದ ವಿಚಾರಣೆ 3.ಸಂದರ್ಶಕರ ವಿಭಾಗದ ವಿಚಾರಣೆ.\",\n",
        "            'maximum_similarity_threshold': 0.90\n",
        "        }\n",
        "    ],\n",
        "    database_uri='sqlite:///database.sqlite3'   \n",
        ") \n",
        "trainer = ListTrainer(chatbot)\n",
        "\n",
        "# python app.py\n",
        "# Training with Personal Ques & Ans \n",
        "conversation = [\n",
        "\n",
        "    \n",
        "    \"1\",\n",
        "    \"ವಿದ್ಯಾರ್ಥಿಗಳಿಗೆ ಸಂಬಂಧಿಸಿದ ವಿವರಗಳು ಈ ಕೆಳಗಿನಂತಿವೆ. ಕೆಳಗಿನ ಆಯ್ಕೆಗಳಿಂದ ಒಂದನ್ನು ಆಯ್ಕೆಮಾಡಿ :  1.1 ಪಠ್ಯಕ್ರಮಗಳು 1.2 ಪಠ್ಯೇತರ ಪಠ್ಯಕ್ರಮಗಳು  1.3  ಆಡಳಿತಾತ್ಮಕ 1.4 ಪರೀಕ್ಷೆಗಳು  1.5 ನಿಯೋಜನೆಗಳು\",\n",
        "    \n",
        "    \"1.1\",\n",
        "    \" ಪಠ್ಯಕ್ರಮಗಳು  ಇವು ಉನ್ನತ ಫಲಿತಾಂಶಗಳಾಗಿವೆ:  1.1.1 ಶೈಕ್ಷಣಿಕ ಕ್ಯಾಲೆಂಡರ್  1.1.2 ಪಠ್ಯಕ್ರಮಗಳು \",\n",
        "    \n",
        "    \"1.1.1\",\n",
        "    \" 1.1.1  ಶೈಕ್ಷಣಿಕ ಕ್ಯಾಲೆಂಡರ್‌ಗೆ ಲಿಂಕ್👉'http://www.frcrce.ac.in/index.php/academics/academic-calendar' ಇಲ್ಲಿ ಕ್ಲಿಕ್ ಮಾಡಿ\",\n",
        "    \"1.1.2\",\n",
        "    \" 1.1.2 ಪಠ್ಯಕ್ರಮಕ್ಕೆ ಲಿಂಕ್ 👉 'http://www.frcrce.ac.in/index.php/academics/tlp/syllabus' ಇಲ್ಲಿ ಕ್ಲಿಕ್ ಮಾಡಿ\",\n",
        "\n",
        "    \"1.2\",\n",
        "    \"ಪಠ್ಯೇತರ ಪಠ್ಯಕ್ರಮಗಳು ಇವು ಉನ್ನತ ಫಲಿತಾಂಶಗಳಾಗಿವೆ:  1.2.1 ಕಾರ್ಯಕ್ರಮಗಳು  1.2.2 ವಿದ್ಯಾರ್ಥಿ ಅಧ್ಯಾಯಗಳು  1.2.3 ವಿದ್ಯಾರ್ಥಿ ಪರಿಷತ್ತು \",\n",
        "    \"1.2.1\",\n",
        "    \" 1.2.1   ಕಾರ್ಯಕ್ರಮಗಗಳಿಗೆ ಲಿಂಕ್👉  'http://www.frcrce.ac.in/index.php/students/events-new' ಇಲ್ಲಿ ಕ್ಲಿಕ್ ಮಾಡಿ \",\n",
        "    \"1.2.2\",\n",
        "    \" 1.2.2 ವಿದ್ಯಾರ್ಥಿ ಅಧ್ಯಾಯಗಳಿಗೆ ಲಿಂಕ್👉 'http://www.frcrce.ac.in/index.php/students/forums' ಇಲ್ಲಿ ಕ್ಲಿಕ್ ಮಾಡಿ \",\n",
        "    \"1.2.3\",\n",
        "    \"1.2.3 ವಿದ್ಯಾರ್ಥಿ ಪರಿಷತ್ತಿಗೆ ಲಿಂಕ್👉  'http://www.frcrce.ac.in/index.php/students/students-council' ಇಲ್ಲಿ ಕ್ಲಿಕ್ ಮಾಡಿ \",\n",
        "\n",
        "    \"1.3\",\n",
        "    \"1.3 ಆಡಳಿತಾತ್ಮಕ ಇವು ಉನ್ನತ ಫಲಿತಾಂಶಗಳಾಗಿವೆ: 1.3.1 ವಿದ್ಯಾರ್ಥಿಗಳ ಪೋರ್ಟಲ್  1.3.2 ಸೂಚನೆಗಳು\",\n",
        "    \"1.3.1\",\n",
        "    \" 1.3.1 ವಿದ್ಯಾರ್ಥಿಗಳ ಪೋರ್ಟಲ್‌ಗೆ ಲಿಂಕ್👉 'http://granth.fragnel.edu.in:5186/pinfo/index.php' ಇಲ್ಲಿ ಕ್ಲಿಕ್ ಮಾಡಿ‪\",\n",
        "    \"1.3.2\",\n",
        "    \"1.3.2 ಸೂಚನೆಗಳಿಗೆ ಲಿಂಕ್👉  'http://www.frcrce.ac.in/index.php/students/crce-notices/109-office-administration' ಇಲ್ಲಿ ಕ್ಲಿಕ್ ಮಾಡಿ \",\n",
        "\n",
        "    \"1.4\",\n",
        "    \" ಪರೀಕ್ಷೆಗಳು ಇವು ಉನ್ನತ ಫಲಿತಾಂಶಗಳಾಗಿವೆ: 1.4.1ಸೂಚನೆಗಳು  1.4.2 ಪರೀಕ್ಷೆಯ ಪ್ರಕ್ರಿಯೆ  1.4.3 ಪ್ರಶ್ನೆ ಪತ್ರಿಕೆ ಆರ್ಕೈವ್ \",\n",
        "    \"1.4.1\",\n",
        "    \" 1.4.1 ಸೂಚನೆಗಳಿಗೆ ಲಿಂಕ್👉  'http://www.frcrce.ac.in/index.php/students/crce-notices/110-examsection' ಇಲ್ಲಿ ಕ್ಲಿಕ್ ಮಾಡಿ‪ \",\n",
        "    \"1.4.2\",\n",
        "    \" 1.4.2 ಪರೀಕ್ಷಾ ಪ್ರಕ್ರಿಯೆಗೆ ಲಿಂಕ್👉 'http://www.frcrce.ac.in/index.php/academics/examination/exam-process' ಇಲ್ಲಿ ಕ್ಲಿಕ್ ಮಾಡಿ \",\n",
        "    \"1.4.3\",\n",
        "    \" 1.4.3 ಪ್ರಶ್ನೆ ಪತ್ರಿಕೆ ಆರ್ಕೈವ್ಸ್‌ಗೆ ಲಿಂಕ್👉  'http://www.frcrce.ac.in/questionpaper/ArchUE.php' ಇಲ್ಲಿ ಕ್ಲಿಕ್ ಮಾಡಿ \",\n",
        "\n",
        "    \"1.5\",\n",
        "    \"ನಿಯೋಜನೆಗಳು  ಇವು ಉನ್ನತ ಫಲಿತಾಂಶಗಳಾಗಿವೆ: 1.5.1 ನಿಯೋಜನೆಗಳು  1.5.2 ನಮ್ಮ ನೇಮಕಾತಿದಾರರು  1.5.3 ಉದ್ಯೋಗ ಅಂಕಿಅಂಶಗಳು \",\n",
        "    \"1.5.1\",\n",
        "    \" 1.5.1 ಪ್ಲೇಸ್‌ಮೆಂಟ್‌ಗಳಿಗೆ ಲಿಂಕ್👉 'http://www.frcrce.ac.in/index.php/students/placements/campus-placement-overview' ಇಲ್ಲಿ ಕ್ಲಿಕ್ ಮಾಡಿ \",\n",
        "    \"1.5.2\",\n",
        "    \" 1.5.2  ನೇಮಕಾತಿದಾರರಿಗೆ ಲಿಂಕ್👉 'http://www.frcrce.ac.in/index.php/students/placements/our-recruiters' ಇಲ್ಲಿ ಕ್ಲಿಕ್ ಮಾಡಿ\",\n",
        "    \"1.5.3\",\n",
        "    \" 1.5.3 ಉದ್ಯೋಗ ಅಂಕಿಅಂಶಗಳಿಗೆ ಲಿಂಕ್👉  'http://www.frcrce.ac.in/index.php/students/placements/placement-statistics' ಇಲ್ಲಿ ಕ್ಲಿಕ್ ಮಾಡಿ \",\n",
        "\n",
        "    \"2\",\n",
        "    \" ಪೋಷಕರು ,ದಯವಿಟ್ಟು ಕೆಳಗಿನ ಆಯ್ಕೆಗಳಿಂದ ಒಂದನ್ನು ಆಯ್ಕೆಮಾಡಿ :  2.1 ನಮ್ಮಕಾಲೇಜಿನ ಬಗ್ಗೆ 2.2ಸೂಚನೆಗಳು 2.3 ಶುಲ್ಕ ಪಾವತಿ 2.4 ನಿಯೋಜನೆಗಳು \" ,\n",
        "\n",
        "    \"2.1\",\n",
        "    \"ನಮ್ಮಕಾಲೇಜಿನ ಬಗ್ಗೆ ಇವು ಉನ್ನತ ಫಲಿತಾಂಶಗಳಾಗಿವೆ: 2.1.1 ನಮ್ಮ ಕಾಲೇಜಿನ ಬಗ್ಗೆ  2.1.2 ನಿರ್ದೇಶಕರ ವಿಳಾಸ  2.1.3 ಪ್ರಾಂಶುಪಾಲರ ವಿಳಾಸ \",\n",
        "    \"2.1.1\",\n",
        "    \" 2.1.1 ನಮ್ಮ ಕಾಲೇಜಿನ ಬಗ್ಗೆ ತಿಳಿಯಲು ಲಿಂಕ್👉  'http://www.frcrce.ac.in/index.php/about-us/about-crce' ಇಲ್ಲಿ ಕ್ಲಿಕ್ ಮಾಡಿ \",\n",
        "    \"2.1.2\",\n",
        "    \" 2.1.2  ನಿರ್ದೇಶಕರ ವಿಳಾಸಕ್ಕೆ ಲಿಂಕ್👉 'http://www.frcrce.ac.in/index.php/about-us/director' ಇಲ್ಲಿ ಕ್ಲಿಕ್ ಮಾಡಿ \",\n",
        "    \"2.1.3\",\n",
        "    \" 2.1.3  ಪ್ರಾಂಶುಪಾಲರ ವಿಳಾಸಕ್ಕೆ ಲಿಂಕ್👉  'http://www.frcrce.ac.in/index.php/about-us/principal-frcrce' ಇಲ್ಲಿ ಕ್ಲಿಕ್ ಮಾಡಿ\",\n",
        "\n",
        "    \"2.2\",\n",
        "    \" ಸೂಚನೆಗಳು   ಇವು ಉನ್ನತ ಫಲಿತಾಂಶಗಳಾಗಿವೆ: 2.2.1 ಎಲ್ಲಾ ಸೂಚನೆಗಳು \",\n",
        "    \"2.2.1\",\n",
        "    \" 3.2.1 ಎಲ್ಲಾ ಸೂಚನೆಗಳಿಗೆ ಲಿಂಕ್👉  'http://www.frcrce.ac.in/index.php/students/crce-notices' ಇಲ್ಲಿ ಕ್ಲಿಕ್ ಮಾಡಿ \",\n",
        "\n",
        "    \"2.3\",\n",
        "    \"ಶುಲ್ಕ ಪಾವತಿ  ಇವು ಉನ್ನತ ಫಲಿತಾಂಶಗಳಾಗಿವೆ: 2.3.1 ಪಾವತಿ ವಿವರಗಳು 2.3.2 ಆನ್‌ಲೈನ್ ಪಾವತಿ ಪೋರ್ಟಲ್ \",\n",
        "    \"2.3.1\",\n",
        "    \" 2.3.1  ಪಾವತಿ ವಿವರಗಳಿಗೆ ಲಿಂಕ್ 👉  'http://frcrce.ac.in/attachments/article/248/NEFTForm.pdf' ಇಲ್ಲಿ ಕ್ಲಿಕ್ ಮಾಡಿ \",\n",
        "    \"2.3.2\",\n",
        "    \" 2.3.2 ಆನ್‌ಲೈನ್ ಪಾವತಿ ಪೋರ್ಟಲ್‌ಗೆ ಲಿಂಕ್👉 'https://pay.fragnel.edu.in/CRCE/initPay.php' ಇಲ್ಲಿ ಕ್ಲಿಕ್ ಮಾಡಿ\", \n",
        "\n",
        "    \"2.4\",\n",
        "    \"ನಿಯೋಜನೆಗಳು ಇವು ಉನ್ನತ ಫಲಿತಾಂಶಗಳಾಗಿವೆ: 2.4.1 ನಿಯೋಜನೆಗಳು 2.4.2ನಮ್ಮ ನೇಮಕಾತಿದಾರರು  2.4.3 ಉದ್ಯೋಗ ಅಂಕಿಅಂಶಗಳು \",\n",
        "    \"2.4.1\",\n",
        "    \"2.4.1 ನಿಯೋಜನೆಗಳಿಗೆ ಲಿಂಕ್👉  'http://www.frcrce.ac.in/index.php/students/placements/campus-placement-overview' ಇಲ್ಲಿ ಕ್ಲಿಕ್ ಮಾಡಿ \",\n",
        "    \"2.4.2\",\n",
        "    \" 2.4.2 ನೇಮಕಾತಿದಾರರಿಗೆ ಲಿಂಕ್👉 'http://www.frcrce.ac.in/index.php/students/placements/our-recruiters' ಇಲ್ಲಿ ಕ್ಲಿಕ್ ಮಾಡಿ \", \n",
        "    \"2.4.3\",\n",
        "    \" 2.4.3  ಉದ್ಯೋಗ ಅಂಕಿಅಂಶಗಳಿಗೆ ಲಿಂಕ್👉 'http://www.frcrce.ac.in/index.php/students/placements/placement-statistics' ಇಲ್ಲಿ ಕ್ಲಿಕ್ ಮಾಡಿ \",\n",
        "\n",
        "    \"3\",\n",
        "    \"ಸಂದರ್ಶಕರು  ದಯವಿಟ್ಟು ಕೆಳಗಿನ ಆಯ್ಕೆಗಳಿಂದ ಒಂದನ್ನು ಆಯ್ಕೆಮಾಡಿ:  3.1 ನಮ್ಮ ಬಗ್ಗೆ  3.2 ನಾವು ನೀಡುವ ಕಾರ್ಯಕ್ರಮಗಳು 3.3 ವಿದ್ಯಾರ್ಥಿ ಸಂಸ್ಥೆಗಳು 3.4 ಪಠ್ಯೇತರ\",\n",
        "    \n",
        "    \"3.1\",\n",
        "    \"ನಮ್ಮ ಬಗ್ಗೆ   ಇವು ಉನ್ನತ ಫಲಿತಾಂಶಗಳು:3.1.1ನಮ್ಮ ಕಾಲೇಜಿನ ಬಗ್ಗ   3.1.2 ನಿರ್ದೇಶಕರ ವಿಳಾಸ   3.1.3ಪ್ರಾಂಶುಪಾಲರ ವಿಳಾಸ \",\n",
        "    \"3.1.1\",\n",
        "    \" 3.1.1 >ನಮ್ಮ ಕಾಲೇಜಿನ ಬಗ್ಗೆ ತಿಳಿಯಲು ಲಿಂಕ್👉  'http://www.frcrce.ac.in/index.php/about-us/about-crce' ಇಲ್ಲಿ ಕ್ಲಿಕ್ ಮಾಡಿ\",\n",
        "    \"3.1.2\",\n",
        "    \" 3.1.2 ನಿರ್ದೇಶಕರ ವಿಳಾಸಕ್ಕೆ ಲಿಂಕ್  'http://www.frcrce.ac.in/index.php/about-us/director' ಇಲ್ಲಿ ಕ್ಲಿಕ್ ಮಾಡಿ\",\n",
        "    \"3.1.3\",\n",
        "    \" 3.1.3  ಪ್ರಾಂಶುಪಾಲರ ವಿಳಾಸಕ್ಕೆ ಲಿಂಕ್👉 'http://www.frcrce.ac.in/index.php/about-us/principal-frcrce' ಇಲ್ಲಿ ಕ್ಲಿಕ್ ಮಾಡಿ\",\n",
        "\n",
        "    \"3.2\",\n",
        "    \" ನಾವು ನೀಡುವ ಕಾರ್ಯಕ್ರಮಗಳು ಇವು ಉನ್ನತ ಫಲಿತಾಂಶಗಳು: 3.2.1 ಪದವಿಪೂರ್ವ  3.2.2 ಸ್ನಾತಕೋತ್ತರ ಪದವಿ  3.2.3 ಪಿಎಚ್.ಡಿ\",\n",
        "    \"3.2.1\",\n",
        "    \" 3.2.1 ಪದವಿಪೂರ್ವ ಕೋರ್ಸ್‌ಗೆ ಸಂಬಂಧಿಸಿದ ಮಾಹಿತಿಯ ಲಿಂಕ್👉 'http://www.frcrce.ac.in/index.php/admission/under-graduate' ಇಲ್ಲಿ ಕ್ಲಿಕ್ ಮಾಡಿ\",\n",
        "    \"3.2.2\",\n",
        "    \"3.2.2 ಸ್ನಾತಕೋತ್ತರ ಪದವಿಗೆ ಲಿಂಕ್👉 'http://www.frcrce.ac.in/index.php/admission/post-graduate' ಇಲ್ಲಿ ಕ್ಲಿಕ್ ಮಾಡಿ \",\n",
        "    \"3.2.3\",\n",
        "    \"3.2.3 ಪಿಎಚ್.ಡಿ ಸಂಬಂಧಿಸಿದ ಮಾಹಿತಿಗೆ ಲಿಂಕ್👉 'http://www.frcrce.ac.in/index.php/admission/phd' ಇಲ್ಲಿ ಕ್ಲಿಕ್ ಮಾಡಿ\",\n",
        "\n",
        "    \"3.3\",\n",
        "    \"ವಿದ್ಯಾರ್ಥಿ ಸಂಸ್ಥೆಗಳು  ಇವು ಉನ್ನತ ಫಲಿತಾಂಶಗಳು  3.3.1 ವಿದ್ಯಾರ್ಥಿಗಳ ಪರಿಷತ್ತು 3.3.2 ವಿದ್ಯಾರ್ಥಿಗಳ ಅಧ್ಯಾಯ  3.3.3ವಿದ್ಯಾರ್ಥಿಗಳ ಪ್ರಾಜೆಕ್ಟ್ ಗುಂಪುಗಳು \",\n",
        "    \"3.3.1\",\n",
        "    \"3.3.1 ವಿದ್ಯಾರ್ಥಿಗಳ ಪರಿಷತ್ತಿಗೆ ಲಿಂಕ್ 👉 'http://www.frcrce.ac.in/index.php/students/students-council'ಇಲ್ಲಿ ಕ್ಲಿಕ್ ಮಾಡಿ \",\n",
        "    \"3.3.2\",\n",
        "    \"3.3.2 ವವಿದ್ಯಾರ್ಥಿಗಳ ಅಧ್ಯಾಯಕ್ಕೆ ಲಿಂಕ್ 👉 'http://www.frcrce.ac.in/index.php/students/forums' ಇಲ್ಲಿ ಕ್ಲಿಕ್ ಮಾಡಿ \",\n",
        "    \"3.3.3\",\n",
        "    \"3.3.3 ವಿದ್ಯಾರ್ಥಿಗಳ ಪ್ರಾಜೆಕ್ಟ್ ಗುಂಪುಗಳಿಗೆ ಲಿಂಕ್👉  'http://www.frcrce.ac.in/' ಇಲ್ಲಿ ಕ್ಲಿಕ್ ಮಾಡಿ\",\n",
        "\n",
        "    \"3.4\",\n",
        "    \" ಹೆಚ್ಚುವರಿ ಪಠ್ಯಕ್ರಮ ಇವು ಉನ್ನತ ಫಲಿತಾಂಶಗಳು  3.4.1 ಕಾರ್ಯಕ್ರಮಗಳು  \",\n",
        "    \"3.4.1\",\n",
        "    \" 3.4.1 ಕಾರ್ಯಕ್ರಮಗಳಿಗೆ ಲಿಂಕ್‌ಗಳು👉 'http://www.frcrce.ac.in/index.php/students/events-new' ಇಲ್ಲಿ ಕ್ಲಿಕ್ ಮಾಡಿ\",\n",
        "    \n",
        "]\n",
        "\n",
        "trainer.train(conversation)"
      ],
      "metadata": {
        "colab": {
          "base_uri": "https://localhost:8080/"
        },
        "id": "W1wPCqMVunOk",
        "outputId": "6b5c420e-8d60-4e65-c1d7-6dad4f1f721e"
      },
      "execution_count": 5,
      "outputs": [
        {
          "output_type": "stream",
          "name": "stdout",
          "text": [
            "List Trainer: [####################] 100%\n"
          ]
        }
      ]
    },
    {
      "cell_type": "code",
      "source": [
        ""
      ],
      "metadata": {
        "id": "MkgN0tdxuyHY"
      },
      "execution_count": null,
      "outputs": []
    },
    {
      "cell_type": "code",
      "source": [
        ""
      ],
      "metadata": {
        "id": "2D6uMWJku1eV"
      },
      "execution_count": null,
      "outputs": []
    },
    {
      "cell_type": "code",
      "execution_count": null,
      "metadata": {
        "colab": {
          "base_uri": "https://localhost:8080/"
        },
        "id": "_6lw3p-oDayb",
        "outputId": "4127f2ca-e33f-49f4-ca86-a69475937851"
      },
      "outputs": [
        {
          "output_type": "stream",
          "name": "stdout",
          "text": [
            "ನಮಸ್ತೆ,  ನಿಮಗೆ ಯಾವುದೇ ಸಹಾಯಕ ಅಗತ್ಯವಿದ್ದರೆ ನಿಮಗೆ ಸಹಾಯ ಮಾಡಲು ನಾನು ಇಲ್ಲಿದ್ದೇನೆ.ಮುಂದುವರಿಯಿರಿ ಮತ್ತು ಯಾವುದೇ ಪ್ರಶ್ನೆಯ ಸಂಖ್ಯೆಯನ್ನು ಬರೆಯಿರಿ.  ಈ ಕೆಳಗಿನ ಯಾವ ಗುಂಪಿನ ಮಾಹಿತಿಯನ್ನು ನೀವು ತಿಳಿದುಕೊಳ್ಳಲು ಬಯಸುತ್ತೀರಿ? \n",
            " 1.ವಿದ್ಯಾರ್ಥಿ ವಿಭಾಗದ ವಿಚಾರಣೆ.  \n",
            " 2.ಪೋಷಕರ ವಿಭಾಗದ ವಿಚಾರಣೆ \n",
            " 3.ಸಂದರ್ಶಕರ ವಿಭಾಗದ ವಿಚಾರಣೆ \n",
            " ನಿಮ್ಮ ಹೆಸರನ್ನು ಇಲ್ಲಿ ನಮೂದಿಸಿ: aaa\n",
            "ನಮಸ್ತೆ, ನಾನು ನಿಮ್ಮ ಕನ್ನಡ ಬೋಟ್.! ನೀವು ಯಾವ ಮಾಹಿತಿಯನ್ನು ಹುಡುಕುತ್ತಿದ್ದೀರಿ.\n",
            "aaa:1\n",
            "ಕನ್ನಡ ಬೋಟ್: ವಿದ್ಯಾರ್ಥಿಗಳಿಗೆ ಸಂಬಂಧಿಸಿದ ವಿವರಗಳು ಈ ಕೆಳಗಿನಂತಿವೆ. ಕೆಳಗಿನ ಆಯ್ಕೆಗಳಿಂದ ಒಂದನ್ನು ಆಯ್ಕೆಮಾಡಿ : 1.1 ಪಠ್ಯಕ್ರಮಗಳು 1.2 ಪಠ್ಯೇತರ ಪಠ್ಯಕ್ರಮಗಳು 1.3 ಆಡಳಿತಾತ್ಮಕ 1.4 ಪರೀಕ್ಷೆಗಳು 1.5 ನಿಯೋಜನೆಗಳು\n",
            "aaa:1.1\n",
            "ಕನ್ನಡ ಬೋಟ್: ಪಠ್ಯಕ್ರಮಗಳು ಇವು ಉನ್ನತ ಫಲಿತಾಂಶಗಳಾಗಿವೆ: 1.1.1 ಶೈಕ್ಷಣಿಕ ಕ್ಯಾಲೆಂಡರ್ 1.1.2 ಪಠ್ಯಕ್ರಮಗಳು\n",
            "aaa:1.1.1\n",
            "ಕನ್ನಡ ಬೋಟ್: 1.1.1 ಶೈಕ್ಷಣಿಕ ಕ್ಯಾಲೆಂಡರ್‌ಗೆ ಲಿಂಕ್👉'http://www.frcrce.ac.in/index.php/academics/academic-calendar' ಇಲ್ಲಿ ಕ್ಲಿಕ್ ಮಾಡಿ\n",
            "aaa:3\n",
            "ಕನ್ನಡ ಬೋಟ್: ಸಂದರ್ಶಕರು ದಯವಿಟ್ಟು ಕೆಳಗಿನ ಆಯ್ಕೆಗಳಿಂದ ಒಂದನ್ನು ಆಯ್ಕೆಮಾಡಿ: 3.1 ನಮ್ಮ ಬಗ್ಗೆ 3.2 ನಾವು ನೀಡುವ ಕಾರ್ಯಕ್ರಮಗಳು 3.3 ವಿದ್ಯಾರ್ಥಿ ಸಂಸ್ಥೆಗಳು 3.4 ಪಠ್ಯೇತರ\n",
            "aaa:3.2\n",
            "ಕನ್ನಡ ಬೋಟ್: ನಾವು ನೀಡುವ ಕಾರ್ಯಕ್ರಮಗಳು ಇವು ಉನ್ನತ ಫಲಿತಾಂಶಗಳು: 3.2.1 ಪದವಿಪೂರ್ವ 3.2.2 ಸ್ನಾತಕೋತ್ತರ ಪದವಿ 3.2.3 ಪಿಎಚ್.ಡಿ\n"
          ]
        }
      ],
      "source": [
        "name=input(\"ನಮಸ್ತೆ,  ನಿಮಗೆ ಯಾವುದೇ ಸಹಾಯಕ ಅಗತ್ಯವಿದ್ದರೆ ನಿಮಗೆ ಸಹಾಯ ಮಾಡಲು ನಾನು ಇಲ್ಲಿದ್ದೇನೆ.ಮುಂದುವರಿಯಿರಿ ಮತ್ತು ಯಾವುದೇ ಪ್ರಶ್ನೆಯ ಸಂಖ್ಯೆಯನ್ನು ಬರೆಯಿರಿ.  ಈ ಕೆಳಗಿನ ಯಾವ ಗುಂಪಿನ ಮಾಹಿತಿಯನ್ನು ನೀವು ತಿಳಿದುಕೊಳ್ಳಲು ಬಯಸುತ್ತೀರಿ? \\n 1.ವಿದ್ಯಾರ್ಥಿ ವಿಭಾಗದ ವಿಚಾರಣೆ.  \\n 2.ಪೋಷಕರ ವಿಭಾಗದ ವಿಚಾರಣೆ \\n 3.ಸಂದರ್ಶಕರ ವಿಭಾಗದ ವಿಚಾರಣೆ \\n ನಿಮ್ಮ ಹೆಸರನ್ನು ಇಲ್ಲಿ ನಮೂದಿಸಿ: \")\n",
        "print(\"ನಮಸ್ತೆ, ನಾನು ನಿಮ್ಮ ಕನ್ನಡ ಬೋಟ್.! ನೀವು ಯಾವ ಮಾಹಿತಿಯನ್ನು ಹುಡುಕುತ್ತಿದ್ದೀರಿ.\")\n",
        "while True:\n",
        "  request=input(name+':')\n",
        "  if request=='bye' or request =='Bye':\n",
        "    print('ಕನ್ನಡ ಬೋಟ್: ಧನ್ಯವಾದಗಳು..ನಾನು ನಿರ್ಗಮಿಸುತ್ತೇನೆ')\n",
        "    break\n",
        "  else:\n",
        "      response=chatbot.get_response(request)\n",
        "      print('ಕನ್ನಡ ಬೋಟ್:',response)\n"
      ]
    }
  ]
}